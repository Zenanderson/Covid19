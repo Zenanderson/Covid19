{
  "nbformat": 4,
  "nbformat_minor": 0,
  "metadata": {
    "colab": {
      "name": "Covid-19 - Predição com Prophet do Facebook",
      "provenance": [],
      "collapsed_sections": []
    },
    "kernelspec": {
      "name": "python3",
      "display_name": "Python 3"
    },
    "language_info": {
      "name": "python"
    }
  },
  "cells": [
    {
      "cell_type": "code",
      "metadata": {
        "id": "izaUHnOIWj1M"
      },
      "source": [
        "##Caminho do data set\n",
        "\n",
        "## https://raw.githubusercontent.com/sandeco/CanalSandeco/master/covid-19/covid_19_data.csv"
      ],
      "execution_count": null,
      "outputs": []
    },
    {
      "cell_type": "code",
      "metadata": {
        "id": "hHy4UIiJWoxP"
      },
      "source": [
        "# Bibliotecas para manipular os dados\n",
        "import pandas as pd\n",
        "import numpy as np\n",
        "\n",
        "# Biblioteca Prophet do Facebook para predição dos dados\n",
        "from fbprophet import Prophet"
      ],
      "execution_count": null,
      "outputs": []
    },
    {
      "cell_type": "markdown",
      "metadata": {
        "id": "KyPEI1_oZSil"
      },
      "source": [
        "**Lendo o data set, um arquivo em csv.**"
      ]
    },
    {
      "cell_type": "code",
      "metadata": {
        "id": "PNVD4OwbW_Pt"
      },
      "source": [
        "covid = pd.read_csv('https://raw.githubusercontent.com/sandeco/CanalSandeco/master/covid-19/covid_19_data.csv')"
      ],
      "execution_count": null,
      "outputs": []
    },
    {
      "cell_type": "code",
      "metadata": {
        "colab": {
          "base_uri": "https://localhost:8080/",
          "height": 202
        },
        "id": "mfAldgEQXDB9",
        "outputId": "4e711c72-8301-4da7-d2ed-7687cc171039"
      },
      "source": [
        "covid.tail()"
      ],
      "execution_count": null,
      "outputs": [
        {
          "output_type": "execute_result",
          "data": {
            "text/html": [
              "<div>\n",
              "<style scoped>\n",
              "    .dataframe tbody tr th:only-of-type {\n",
              "        vertical-align: middle;\n",
              "    }\n",
              "\n",
              "    .dataframe tbody tr th {\n",
              "        vertical-align: top;\n",
              "    }\n",
              "\n",
              "    .dataframe thead th {\n",
              "        text-align: right;\n",
              "    }\n",
              "</style>\n",
              "<table border=\"1\" class=\"dataframe\">\n",
              "  <thead>\n",
              "    <tr style=\"text-align: right;\">\n",
              "      <th></th>\n",
              "      <th>SNo</th>\n",
              "      <th>ObservationDate</th>\n",
              "      <th>Province/State</th>\n",
              "      <th>Country/Region</th>\n",
              "      <th>Last Update</th>\n",
              "      <th>Confirmed</th>\n",
              "      <th>Deaths</th>\n",
              "      <th>Recovered</th>\n",
              "    </tr>\n",
              "  </thead>\n",
              "  <tbody>\n",
              "    <tr>\n",
              "      <th>10353</th>\n",
              "      <td>10354</td>\n",
              "      <td>03/30/2020</td>\n",
              "      <td>Wyoming</td>\n",
              "      <td>US</td>\n",
              "      <td>2020-03-30 22:58:55</td>\n",
              "      <td>94.0</td>\n",
              "      <td>0.0</td>\n",
              "      <td>0.0</td>\n",
              "    </tr>\n",
              "    <tr>\n",
              "      <th>10354</th>\n",
              "      <td>10355</td>\n",
              "      <td>03/30/2020</td>\n",
              "      <td>Xinjiang</td>\n",
              "      <td>Mainland China</td>\n",
              "      <td>2020-03-30 22:58:55</td>\n",
              "      <td>76.0</td>\n",
              "      <td>3.0</td>\n",
              "      <td>73.0</td>\n",
              "    </tr>\n",
              "    <tr>\n",
              "      <th>10355</th>\n",
              "      <td>10356</td>\n",
              "      <td>03/30/2020</td>\n",
              "      <td>Yukon</td>\n",
              "      <td>Canada</td>\n",
              "      <td>2020-03-30 22:58:55</td>\n",
              "      <td>4.0</td>\n",
              "      <td>0.0</td>\n",
              "      <td>0.0</td>\n",
              "    </tr>\n",
              "    <tr>\n",
              "      <th>10356</th>\n",
              "      <td>10357</td>\n",
              "      <td>03/30/2020</td>\n",
              "      <td>Yunnan</td>\n",
              "      <td>Mainland China</td>\n",
              "      <td>2020-03-30 22:58:55</td>\n",
              "      <td>180.0</td>\n",
              "      <td>2.0</td>\n",
              "      <td>172.0</td>\n",
              "    </tr>\n",
              "    <tr>\n",
              "      <th>10357</th>\n",
              "      <td>10358</td>\n",
              "      <td>03/30/2020</td>\n",
              "      <td>Zhejiang</td>\n",
              "      <td>Mainland China</td>\n",
              "      <td>2020-03-30 22:58:55</td>\n",
              "      <td>1255.0</td>\n",
              "      <td>1.0</td>\n",
              "      <td>1225.0</td>\n",
              "    </tr>\n",
              "  </tbody>\n",
              "</table>\n",
              "</div>"
            ],
            "text/plain": [
              "         SNo ObservationDate Province/State  ... Confirmed Deaths  Recovered\n",
              "10353  10354      03/30/2020        Wyoming  ...      94.0    0.0        0.0\n",
              "10354  10355      03/30/2020       Xinjiang  ...      76.0    3.0       73.0\n",
              "10355  10356      03/30/2020          Yukon  ...       4.0    0.0        0.0\n",
              "10356  10357      03/30/2020         Yunnan  ...     180.0    2.0      172.0\n",
              "10357  10358      03/30/2020       Zhejiang  ...    1255.0    1.0     1225.0\n",
              "\n",
              "[5 rows x 8 columns]"
            ]
          },
          "metadata": {
            "tags": []
          },
          "execution_count": 158
        }
      ]
    },
    {
      "cell_type": "markdown",
      "metadata": {
        "id": "6xIdk9lBXIpV"
      },
      "source": [
        "**Renomeando as colunas ObservartionDate e Country/Region**"
      ]
    },
    {
      "cell_type": "code",
      "metadata": {
        "id": "tvXbHZkNXPD9"
      },
      "source": [
        "covid.rename(columns={'ObservationDate':'Date', 'Country/Region':'Country'},inplace=True)"
      ],
      "execution_count": null,
      "outputs": []
    },
    {
      "cell_type": "code",
      "metadata": {
        "colab": {
          "base_uri": "https://localhost:8080/",
          "height": 110
        },
        "id": "d-PFuVKfXtWG",
        "outputId": "d9f087e1-51fa-4d06-dea1-db18b8e994b3"
      },
      "source": [
        "covid.head(2)"
      ],
      "execution_count": null,
      "outputs": [
        {
          "output_type": "execute_result",
          "data": {
            "text/html": [
              "<div>\n",
              "<style scoped>\n",
              "    .dataframe tbody tr th:only-of-type {\n",
              "        vertical-align: middle;\n",
              "    }\n",
              "\n",
              "    .dataframe tbody tr th {\n",
              "        vertical-align: top;\n",
              "    }\n",
              "\n",
              "    .dataframe thead th {\n",
              "        text-align: right;\n",
              "    }\n",
              "</style>\n",
              "<table border=\"1\" class=\"dataframe\">\n",
              "  <thead>\n",
              "    <tr style=\"text-align: right;\">\n",
              "      <th></th>\n",
              "      <th>SNo</th>\n",
              "      <th>Date</th>\n",
              "      <th>Province/State</th>\n",
              "      <th>Country</th>\n",
              "      <th>Last Update</th>\n",
              "      <th>Confirmed</th>\n",
              "      <th>Deaths</th>\n",
              "      <th>Recovered</th>\n",
              "    </tr>\n",
              "  </thead>\n",
              "  <tbody>\n",
              "    <tr>\n",
              "      <th>0</th>\n",
              "      <td>1</td>\n",
              "      <td>01/22/2020</td>\n",
              "      <td>Anhui</td>\n",
              "      <td>Mainland China</td>\n",
              "      <td>1/22/2020 17:00</td>\n",
              "      <td>1.0</td>\n",
              "      <td>0.0</td>\n",
              "      <td>0.0</td>\n",
              "    </tr>\n",
              "    <tr>\n",
              "      <th>1</th>\n",
              "      <td>2</td>\n",
              "      <td>01/22/2020</td>\n",
              "      <td>Beijing</td>\n",
              "      <td>Mainland China</td>\n",
              "      <td>1/22/2020 17:00</td>\n",
              "      <td>14.0</td>\n",
              "      <td>0.0</td>\n",
              "      <td>0.0</td>\n",
              "    </tr>\n",
              "  </tbody>\n",
              "</table>\n",
              "</div>"
            ],
            "text/plain": [
              "   SNo        Date Province/State  ... Confirmed Deaths  Recovered\n",
              "0    1  01/22/2020          Anhui  ...       1.0    0.0        0.0\n",
              "1    2  01/22/2020        Beijing  ...      14.0    0.0        0.0\n",
              "\n",
              "[2 rows x 8 columns]"
            ]
          },
          "metadata": {
            "tags": []
          },
          "execution_count": 160
        }
      ]
    },
    {
      "cell_type": "markdown",
      "metadata": {
        "id": "agxkMhNRX2GO"
      },
      "source": [
        "**Criando uma variável mortes e agrupando por data e somando por mortes. Por fim indexando**"
      ]
    },
    {
      "cell_type": "code",
      "metadata": {
        "colab": {
          "base_uri": "https://localhost:8080/",
          "height": 202
        },
        "id": "VpdSu9hFX4IO",
        "outputId": "42c59996-1590-42ce-bfb5-2a925bf6c3ab"
      },
      "source": [
        "mortes = covid.groupby('Date').sum()['Deaths'].reset_index()\n",
        "mortes.tail()"
      ],
      "execution_count": null,
      "outputs": [
        {
          "output_type": "execute_result",
          "data": {
            "text/html": [
              "<div>\n",
              "<style scoped>\n",
              "    .dataframe tbody tr th:only-of-type {\n",
              "        vertical-align: middle;\n",
              "    }\n",
              "\n",
              "    .dataframe tbody tr th {\n",
              "        vertical-align: top;\n",
              "    }\n",
              "\n",
              "    .dataframe thead th {\n",
              "        text-align: right;\n",
              "    }\n",
              "</style>\n",
              "<table border=\"1\" class=\"dataframe\">\n",
              "  <thead>\n",
              "    <tr style=\"text-align: right;\">\n",
              "      <th></th>\n",
              "      <th>Date</th>\n",
              "      <th>Deaths</th>\n",
              "    </tr>\n",
              "  </thead>\n",
              "  <tbody>\n",
              "    <tr>\n",
              "      <th>64</th>\n",
              "      <td>03/26/2020</td>\n",
              "      <td>23970.0</td>\n",
              "    </tr>\n",
              "    <tr>\n",
              "      <th>65</th>\n",
              "      <td>03/27/2020</td>\n",
              "      <td>27198.0</td>\n",
              "    </tr>\n",
              "    <tr>\n",
              "      <th>66</th>\n",
              "      <td>03/28/2020</td>\n",
              "      <td>30652.0</td>\n",
              "    </tr>\n",
              "    <tr>\n",
              "      <th>67</th>\n",
              "      <td>03/29/2020</td>\n",
              "      <td>33925.0</td>\n",
              "    </tr>\n",
              "    <tr>\n",
              "      <th>68</th>\n",
              "      <td>03/30/2020</td>\n",
              "      <td>37582.0</td>\n",
              "    </tr>\n",
              "  </tbody>\n",
              "</table>\n",
              "</div>"
            ],
            "text/plain": [
              "          Date   Deaths\n",
              "64  03/26/2020  23970.0\n",
              "65  03/27/2020  27198.0\n",
              "66  03/28/2020  30652.0\n",
              "67  03/29/2020  33925.0\n",
              "68  03/30/2020  37582.0"
            ]
          },
          "metadata": {
            "tags": []
          },
          "execution_count": 161
        }
      ]
    },
    {
      "cell_type": "markdown",
      "metadata": {
        "id": "eWe9ngEzYtPs"
      },
      "source": [
        "**Plotando as mortes**"
      ]
    },
    {
      "cell_type": "code",
      "metadata": {
        "colab": {
          "base_uri": "https://localhost:8080/",
          "height": 282
        },
        "id": "mS_JJ_NaYqM-",
        "outputId": "49ffde89-ac2a-4274-8aab-5547ca18420c"
      },
      "source": [
        "mortes.plot()"
      ],
      "execution_count": null,
      "outputs": [
        {
          "output_type": "execute_result",
          "data": {
            "text/plain": [
              "<matplotlib.axes._subplots.AxesSubplot at 0x7f4d17cc4b10>"
            ]
          },
          "metadata": {
            "tags": []
          },
          "execution_count": 162
        },
        {
          "output_type": "display_data",
          "data": {
            "image/png": "[encoded data removed]",
            "text/plain": [
              "<Figure size 432x288 with 1 Axes>"
            ]
          },
          "metadata": {
            "tags": [],
            "needs_background": "light"
          }
        }
      ]
    },
    {
      "cell_type": "markdown",
      "metadata": {
        "id": "NyPlnN44TBB_"
      },
      "source": [
        "**Formato das colunas de dados do Prophet, ds e y**\n",
        "\n",
        "A coluna ds deve ter o formato esperado pelo pandas, idealmente AAAA-MM-DD, para AAAA-MM-DD HH::MM:SS para timestamp.\n",
        "\n",
        "A coluna y deve ser númerica e representa a medida que desejamos prever. \n",
        "\n"
      ]
    },
    {
      "cell_type": "markdown",
      "metadata": {
        "id": "Ew0Am0teT0hL"
      },
      "source": [
        "**Renomeando as colunas date e Deaths, para ds e y.**"
      ]
    },
    {
      "cell_type": "code",
      "metadata": {
        "id": "tS-top9-T2uP"
      },
      "source": [
        "mortes.columns = ['ds', 'y']"
      ],
      "execution_count": null,
      "outputs": []
    },
    {
      "cell_type": "code",
      "metadata": {
        "colab": {
          "base_uri": "https://localhost:8080/",
          "height": 202
        },
        "id": "35EEqXPUU154",
        "outputId": "ba7b3deb-7d68-4b9b-b09e-231a3679e400"
      },
      "source": [
        "mortes.head()"
      ],
      "execution_count": null,
      "outputs": [
        {
          "output_type": "execute_result",
          "data": {
            "text/html": [
              "<div>\n",
              "<style scoped>\n",
              "    .dataframe tbody tr th:only-of-type {\n",
              "        vertical-align: middle;\n",
              "    }\n",
              "\n",
              "    .dataframe tbody tr th {\n",
              "        vertical-align: top;\n",
              "    }\n",
              "\n",
              "    .dataframe thead th {\n",
              "        text-align: right;\n",
              "    }\n",
              "</style>\n",
              "<table border=\"1\" class=\"dataframe\">\n",
              "  <thead>\n",
              "    <tr style=\"text-align: right;\">\n",
              "      <th></th>\n",
              "      <th>ds</th>\n",
              "      <th>y</th>\n",
              "    </tr>\n",
              "  </thead>\n",
              "  <tbody>\n",
              "    <tr>\n",
              "      <th>0</th>\n",
              "      <td>01/22/2020</td>\n",
              "      <td>17.0</td>\n",
              "    </tr>\n",
              "    <tr>\n",
              "      <th>1</th>\n",
              "      <td>01/23/2020</td>\n",
              "      <td>18.0</td>\n",
              "    </tr>\n",
              "    <tr>\n",
              "      <th>2</th>\n",
              "      <td>01/24/2020</td>\n",
              "      <td>26.0</td>\n",
              "    </tr>\n",
              "    <tr>\n",
              "      <th>3</th>\n",
              "      <td>01/25/2020</td>\n",
              "      <td>42.0</td>\n",
              "    </tr>\n",
              "    <tr>\n",
              "      <th>4</th>\n",
              "      <td>01/26/2020</td>\n",
              "      <td>56.0</td>\n",
              "    </tr>\n",
              "  </tbody>\n",
              "</table>\n",
              "</div>"
            ],
            "text/plain": [
              "           ds     y\n",
              "0  01/22/2020  17.0\n",
              "1  01/23/2020  18.0\n",
              "2  01/24/2020  26.0\n",
              "3  01/25/2020  42.0\n",
              "4  01/26/2020  56.0"
            ]
          },
          "metadata": {
            "tags": []
          },
          "execution_count": 164
        }
      ]
    },
    {
      "cell_type": "markdown",
      "metadata": {
        "id": "RBGUeL56VCl7"
      },
      "source": [
        "**Transformando a coluna ds no formato timestamp**"
      ]
    },
    {
      "cell_type": "code",
      "metadata": {
        "id": "05p8xUQNVHYk"
      },
      "source": [
        "mortes['ds'] = pd.to_datetime(mortes['ds'])"
      ],
      "execution_count": null,
      "outputs": []
    },
    {
      "cell_type": "code",
      "metadata": {
        "colab": {
          "base_uri": "https://localhost:8080/",
          "height": 202
        },
        "id": "iJjeoRpGVfyv",
        "outputId": "6d89ee18-886a-4d6b-a1b5-871a38ccce8c"
      },
      "source": [
        "mortes.head()"
      ],
      "execution_count": null,
      "outputs": [
        {
          "output_type": "execute_result",
          "data": {
            "text/html": [
              "<div>\n",
              "<style scoped>\n",
              "    .dataframe tbody tr th:only-of-type {\n",
              "        vertical-align: middle;\n",
              "    }\n",
              "\n",
              "    .dataframe tbody tr th {\n",
              "        vertical-align: top;\n",
              "    }\n",
              "\n",
              "    .dataframe thead th {\n",
              "        text-align: right;\n",
              "    }\n",
              "</style>\n",
              "<table border=\"1\" class=\"dataframe\">\n",
              "  <thead>\n",
              "    <tr style=\"text-align: right;\">\n",
              "      <th></th>\n",
              "      <th>ds</th>\n",
              "      <th>y</th>\n",
              "    </tr>\n",
              "  </thead>\n",
              "  <tbody>\n",
              "    <tr>\n",
              "      <th>0</th>\n",
              "      <td>2020-01-22</td>\n",
              "      <td>17.0</td>\n",
              "    </tr>\n",
              "    <tr>\n",
              "      <th>1</th>\n",
              "      <td>2020-01-23</td>\n",
              "      <td>18.0</td>\n",
              "    </tr>\n",
              "    <tr>\n",
              "      <th>2</th>\n",
              "      <td>2020-01-24</td>\n",
              "      <td>26.0</td>\n",
              "    </tr>\n",
              "    <tr>\n",
              "      <th>3</th>\n",
              "      <td>2020-01-25</td>\n",
              "      <td>42.0</td>\n",
              "    </tr>\n",
              "    <tr>\n",
              "      <th>4</th>\n",
              "      <td>2020-01-26</td>\n",
              "      <td>56.0</td>\n",
              "    </tr>\n",
              "  </tbody>\n",
              "</table>\n",
              "</div>"
            ],
            "text/plain": [
              "          ds     y\n",
              "0 2020-01-22  17.0\n",
              "1 2020-01-23  18.0\n",
              "2 2020-01-24  26.0\n",
              "3 2020-01-25  42.0\n",
              "4 2020-01-26  56.0"
            ]
          },
          "metadata": {
            "tags": []
          },
          "execution_count": 166
        }
      ]
    },
    {
      "cell_type": "markdown",
      "metadata": {
        "id": "7JlhZInxVyTR"
      },
      "source": [
        "**Previsão de mortes da covid-19 no mundo, utilizando o Prophet.**"
      ]
    },
    {
      "cell_type": "markdown",
      "metadata": {
        "id": "qOZFXBM3WAFL"
      },
      "source": [
        "**DADOS CONTENDO SÉRIES TEMPORAIS.**\n",
        "Em séries temporais a tendência muda o tempo todo, por isso é impossível ter certeza se faremos a coisa mais razoável possíovel e assumimos que o futuro sofrerá mudanças de tendência.\n",
        "Nesse caso, assumiremos um intervalo de confiança de 95%, ou seja admitimos um erro de 5%. "
      ]
    },
    {
      "cell_type": "markdown",
      "metadata": {
        "id": "PBevXQsuY5jN"
      },
      "source": [
        "**Instanciando o Prophet e informando o intervalo de 95%**"
      ]
    },
    {
      "cell_type": "code",
      "metadata": {
        "id": "vQTFcZg0Wmt5"
      },
      "source": [
        "# Variável FB intanciando o Prophet\n",
        "fb = Prophet(interval_width=0.95)"
      ],
      "execution_count": null,
      "outputs": []
    },
    {
      "cell_type": "markdown",
      "metadata": {
        "id": "9sUjcOEdZQTf"
      },
      "source": [
        "**Treinando meu modelo. Minha variável fb que já contém o Prophet instanciado, chama o método fit e passo como parâmetro minha variável mortes que já contém as colunas de dados ds e y.**"
      ]
    },
    {
      "cell_type": "code",
      "metadata": {
        "colab": {
          "base_uri": "https://localhost:8080/"
        },
        "id": "hS6PTN5RWfZl",
        "outputId": "ba384432-74d3-4bcf-b7a6-46942fec3779"
      },
      "source": [
        "fb.fit(mortes)"
      ],
      "execution_count": null,
      "outputs": [
        {
          "output_type": "stream",
          "text": [
            "INFO:fbprophet:Disabling yearly seasonality. Run prophet with yearly_seasonality=True to override this.\n",
            "INFO:fbprophet:Disabling daily seasonality. Run prophet with daily_seasonality=True to override this.\n"
          ],
          "name": "stderr"
        },
        {
          "output_type": "execute_result",
          "data": {
            "text/plain": [
              "<fbprophet.forecaster.Prophet at 0x7f4d18276690>"
            ]
          },
          "metadata": {
            "tags": []
          },
          "execution_count": 168
        }
      ]
    },
    {
      "cell_type": "markdown",
      "metadata": {
        "id": "RbtcbPNWZviz"
      },
      "source": [
        "**Criando um futuro utilizando o Prophet.**"
      ]
    },
    {
      "cell_type": "code",
      "metadata": {
        "id": "7b7EgJz2taPu"
      },
      "source": [
        "# Variável onde informo os dias que quero calcular\n",
        "dias = 10"
      ],
      "execution_count": null,
      "outputs": []
    },
    {
      "cell_type": "code",
      "metadata": {
        "colab": {
          "base_uri": "https://localhost:8080/",
          "height": 355
        },
        "id": "2W_Y3oPhZ5DM",
        "outputId": "96ac5edd-a564-4036-b84c-743197f00dc1"
      },
      "source": [
        "# Crio uma variável futuro\n",
        "# Recebe a variável fb e chamo o método make_future_dataframe\n",
        "# Para esse método informo um período para essa previsão de futuro\n",
        "# Para ativar a sazonalidade diária, após infomar o período basta dar uma vírgula e informar daily_seasonality=True\n",
        "# futuro = fb.make_future_dataframe(periods=7, daily_seasonality=True)\n",
        "futuro = fb.make_future_dataframe(periods=dias)\n",
        "futuro.tail(dias)"
      ],
      "execution_count": null,
      "outputs": [
        {
          "output_type": "execute_result",
          "data": {
            "text/html": [
              "<div>\n",
              "<style scoped>\n",
              "    .dataframe tbody tr th:only-of-type {\n",
              "        vertical-align: middle;\n",
              "    }\n",
              "\n",
              "    .dataframe tbody tr th {\n",
              "        vertical-align: top;\n",
              "    }\n",
              "\n",
              "    .dataframe thead th {\n",
              "        text-align: right;\n",
              "    }\n",
              "</style>\n",
              "<table border=\"1\" class=\"dataframe\">\n",
              "  <thead>\n",
              "    <tr style=\"text-align: right;\">\n",
              "      <th></th>\n",
              "      <th>ds</th>\n",
              "    </tr>\n",
              "  </thead>\n",
              "  <tbody>\n",
              "    <tr>\n",
              "      <th>69</th>\n",
              "      <td>2020-03-31</td>\n",
              "    </tr>\n",
              "    <tr>\n",
              "      <th>70</th>\n",
              "      <td>2020-04-01</td>\n",
              "    </tr>\n",
              "    <tr>\n",
              "      <th>71</th>\n",
              "      <td>2020-04-02</td>\n",
              "    </tr>\n",
              "    <tr>\n",
              "      <th>72</th>\n",
              "      <td>2020-04-03</td>\n",
              "    </tr>\n",
              "    <tr>\n",
              "      <th>73</th>\n",
              "      <td>2020-04-04</td>\n",
              "    </tr>\n",
              "    <tr>\n",
              "      <th>74</th>\n",
              "      <td>2020-04-05</td>\n",
              "    </tr>\n",
              "    <tr>\n",
              "      <th>75</th>\n",
              "      <td>2020-04-06</td>\n",
              "    </tr>\n",
              "    <tr>\n",
              "      <th>76</th>\n",
              "      <td>2020-04-07</td>\n",
              "    </tr>\n",
              "    <tr>\n",
              "      <th>77</th>\n",
              "      <td>2020-04-08</td>\n",
              "    </tr>\n",
              "    <tr>\n",
              "      <th>78</th>\n",
              "      <td>2020-04-09</td>\n",
              "    </tr>\n",
              "  </tbody>\n",
              "</table>\n",
              "</div>"
            ],
            "text/plain": [
              "           ds\n",
              "69 2020-03-31\n",
              "70 2020-04-01\n",
              "71 2020-04-02\n",
              "72 2020-04-03\n",
              "73 2020-04-04\n",
              "74 2020-04-05\n",
              "75 2020-04-06\n",
              "76 2020-04-07\n",
              "77 2020-04-08\n",
              "78 2020-04-09"
            ]
          },
          "metadata": {
            "tags": []
          },
          "execution_count": 170
        }
      ]
    },
    {
      "cell_type": "markdown",
      "metadata": {
        "id": "snUazErMbgfT"
      },
      "source": [
        "**Fazendo uma previsão utilizando o método predict**"
      ]
    },
    {
      "cell_type": "code",
      "metadata": {
        "colab": {
          "base_uri": "https://localhost:8080/",
          "height": 542
        },
        "id": "l8FK6uvSao1F",
        "outputId": "a210e84e-93f1-4606-929e-f49d7f542051"
      },
      "source": [
        "# Crio uma variável futuro\n",
        "# Recebe a variável fb que instanciei o Prophet\n",
        "# Passo como parâmetro a minha variável futuro que contém os dados de futuro\n",
        "previsao = fb.predict(futuro)\n",
        "\n",
        "previsao.tail(dias)"
      ],
      "execution_count": null,
      "outputs": [
        {
          "output_type": "execute_result",
          "data": {
            "text/html": [
              "<div>\n",
              "<style scoped>\n",
              "    .dataframe tbody tr th:only-of-type {\n",
              "        vertical-align: middle;\n",
              "    }\n",
              "\n",
              "    .dataframe tbody tr th {\n",
              "        vertical-align: top;\n",
              "    }\n",
              "\n",
              "    .dataframe thead th {\n",
              "        text-align: right;\n",
              "    }\n",
              "</style>\n",
              "<table border=\"1\" class=\"dataframe\">\n",
              "  <thead>\n",
              "    <tr style=\"text-align: right;\">\n",
              "      <th></th>\n",
              "      <th>ds</th>\n",
              "      <th>trend</th>\n",
              "      <th>yhat_lower</th>\n",
              "      <th>yhat_upper</th>\n",
              "      <th>trend_lower</th>\n",
              "      <th>trend_upper</th>\n",
              "      <th>additive_terms</th>\n",
              "      <th>additive_terms_lower</th>\n",
              "      <th>additive_terms_upper</th>\n",
              "      <th>weekly</th>\n",
              "      <th>weekly_lower</th>\n",
              "      <th>weekly_upper</th>\n",
              "      <th>multiplicative_terms</th>\n",
              "      <th>multiplicative_terms_lower</th>\n",
              "      <th>multiplicative_terms_upper</th>\n",
              "      <th>yhat</th>\n",
              "    </tr>\n",
              "  </thead>\n",
              "  <tbody>\n",
              "    <tr>\n",
              "      <th>69</th>\n",
              "      <td>2020-03-31</td>\n",
              "      <td>34610.435643</td>\n",
              "      <td>32444.791906</td>\n",
              "      <td>36490.356453</td>\n",
              "      <td>34524.399893</td>\n",
              "      <td>34686.440822</td>\n",
              "      <td>-201.620197</td>\n",
              "      <td>-201.620197</td>\n",
              "      <td>-201.620197</td>\n",
              "      <td>-201.620197</td>\n",
              "      <td>-201.620197</td>\n",
              "      <td>-201.620197</td>\n",
              "      <td>0.0</td>\n",
              "      <td>0.0</td>\n",
              "      <td>0.0</td>\n",
              "      <td>34408.815446</td>\n",
              "    </tr>\n",
              "    <tr>\n",
              "      <th>70</th>\n",
              "      <td>2020-04-01</td>\n",
              "      <td>36568.744563</td>\n",
              "      <td>34409.320926</td>\n",
              "      <td>38366.193496</td>\n",
              "      <td>36339.911023</td>\n",
              "      <td>36776.163668</td>\n",
              "      <td>-179.745244</td>\n",
              "      <td>-179.745244</td>\n",
              "      <td>-179.745244</td>\n",
              "      <td>-179.745244</td>\n",
              "      <td>-179.745244</td>\n",
              "      <td>-179.745244</td>\n",
              "      <td>0.0</td>\n",
              "      <td>0.0</td>\n",
              "      <td>0.0</td>\n",
              "      <td>36388.999319</td>\n",
              "    </tr>\n",
              "    <tr>\n",
              "      <th>71</th>\n",
              "      <td>2020-04-02</td>\n",
              "      <td>38527.053482</td>\n",
              "      <td>36218.933310</td>\n",
              "      <td>40501.671829</td>\n",
              "      <td>38104.995936</td>\n",
              "      <td>38914.955572</td>\n",
              "      <td>-187.560276</td>\n",
              "      <td>-187.560276</td>\n",
              "      <td>-187.560276</td>\n",
              "      <td>-187.560276</td>\n",
              "      <td>-187.560276</td>\n",
              "      <td>-187.560276</td>\n",
              "      <td>0.0</td>\n",
              "      <td>0.0</td>\n",
              "      <td>0.0</td>\n",
              "      <td>38339.493206</td>\n",
              "    </tr>\n",
              "    <tr>\n",
              "      <th>72</th>\n",
              "      <td>2020-04-03</td>\n",
              "      <td>40485.362401</td>\n",
              "      <td>38367.690621</td>\n",
              "      <td>42339.870429</td>\n",
              "      <td>39818.674972</td>\n",
              "      <td>41087.184895</td>\n",
              "      <td>-86.602299</td>\n",
              "      <td>-86.602299</td>\n",
              "      <td>-86.602299</td>\n",
              "      <td>-86.602299</td>\n",
              "      <td>-86.602299</td>\n",
              "      <td>-86.602299</td>\n",
              "      <td>0.0</td>\n",
              "      <td>0.0</td>\n",
              "      <td>0.0</td>\n",
              "      <td>40398.760102</td>\n",
              "    </tr>\n",
              "    <tr>\n",
              "      <th>73</th>\n",
              "      <td>2020-04-04</td>\n",
              "      <td>42443.671321</td>\n",
              "      <td>40259.793199</td>\n",
              "      <td>44675.530741</td>\n",
              "      <td>41565.401903</td>\n",
              "      <td>43288.674107</td>\n",
              "      <td>54.700410</td>\n",
              "      <td>54.700410</td>\n",
              "      <td>54.700410</td>\n",
              "      <td>54.700410</td>\n",
              "      <td>54.700410</td>\n",
              "      <td>54.700410</td>\n",
              "      <td>0.0</td>\n",
              "      <td>0.0</td>\n",
              "      <td>0.0</td>\n",
              "      <td>42498.371730</td>\n",
              "    </tr>\n",
              "    <tr>\n",
              "      <th>74</th>\n",
              "      <td>2020-04-05</td>\n",
              "      <td>44401.980240</td>\n",
              "      <td>42198.818424</td>\n",
              "      <td>46878.888202</td>\n",
              "      <td>43257.609135</td>\n",
              "      <td>45536.046600</td>\n",
              "      <td>192.602260</td>\n",
              "      <td>192.602260</td>\n",
              "      <td>192.602260</td>\n",
              "      <td>192.602260</td>\n",
              "      <td>192.602260</td>\n",
              "      <td>192.602260</td>\n",
              "      <td>0.0</td>\n",
              "      <td>0.0</td>\n",
              "      <td>0.0</td>\n",
              "      <td>44594.582500</td>\n",
              "    </tr>\n",
              "    <tr>\n",
              "      <th>75</th>\n",
              "      <td>2020-04-06</td>\n",
              "      <td>46360.289159</td>\n",
              "      <td>44350.658163</td>\n",
              "      <td>49205.298879</td>\n",
              "      <td>44923.774817</td>\n",
              "      <td>47814.805265</td>\n",
              "      <td>408.225347</td>\n",
              "      <td>408.225347</td>\n",
              "      <td>408.225347</td>\n",
              "      <td>408.225347</td>\n",
              "      <td>408.225347</td>\n",
              "      <td>408.225347</td>\n",
              "      <td>0.0</td>\n",
              "      <td>0.0</td>\n",
              "      <td>0.0</td>\n",
              "      <td>46768.514506</td>\n",
              "    </tr>\n",
              "    <tr>\n",
              "      <th>76</th>\n",
              "      <td>2020-04-07</td>\n",
              "      <td>48318.598079</td>\n",
              "      <td>45367.233468</td>\n",
              "      <td>50686.946807</td>\n",
              "      <td>46542.158362</td>\n",
              "      <td>50053.213542</td>\n",
              "      <td>-201.620197</td>\n",
              "      <td>-201.620197</td>\n",
              "      <td>-201.620197</td>\n",
              "      <td>-201.620197</td>\n",
              "      <td>-201.620197</td>\n",
              "      <td>-201.620197</td>\n",
              "      <td>0.0</td>\n",
              "      <td>0.0</td>\n",
              "      <td>0.0</td>\n",
              "      <td>48116.977881</td>\n",
              "    </tr>\n",
              "    <tr>\n",
              "      <th>77</th>\n",
              "      <td>2020-04-08</td>\n",
              "      <td>50276.906998</td>\n",
              "      <td>47339.300525</td>\n",
              "      <td>52759.128274</td>\n",
              "      <td>48147.754700</td>\n",
              "      <td>52334.918439</td>\n",
              "      <td>-179.745244</td>\n",
              "      <td>-179.745244</td>\n",
              "      <td>-179.745244</td>\n",
              "      <td>-179.745244</td>\n",
              "      <td>-179.745244</td>\n",
              "      <td>-179.745244</td>\n",
              "      <td>0.0</td>\n",
              "      <td>0.0</td>\n",
              "      <td>0.0</td>\n",
              "      <td>50097.161754</td>\n",
              "    </tr>\n",
              "    <tr>\n",
              "      <th>78</th>\n",
              "      <td>2020-04-09</td>\n",
              "      <td>52235.215917</td>\n",
              "      <td>48920.060329</td>\n",
              "      <td>55182.630360</td>\n",
              "      <td>49712.084616</td>\n",
              "      <td>54589.492085</td>\n",
              "      <td>-187.560276</td>\n",
              "      <td>-187.560276</td>\n",
              "      <td>-187.560276</td>\n",
              "      <td>-187.560276</td>\n",
              "      <td>-187.560276</td>\n",
              "      <td>-187.560276</td>\n",
              "      <td>0.0</td>\n",
              "      <td>0.0</td>\n",
              "      <td>0.0</td>\n",
              "      <td>52047.655641</td>\n",
              "    </tr>\n",
              "  </tbody>\n",
              "</table>\n",
              "</div>"
            ],
            "text/plain": [
              "           ds         trend  ...  multiplicative_terms_upper          yhat\n",
              "69 2020-03-31  34610.435643  ...                         0.0  34408.815446\n",
              "70 2020-04-01  36568.744563  ...                         0.0  36388.999319\n",
              "71 2020-04-02  38527.053482  ...                         0.0  38339.493206\n",
              "72 2020-04-03  40485.362401  ...                         0.0  40398.760102\n",
              "73 2020-04-04  42443.671321  ...                         0.0  42498.371730\n",
              "74 2020-04-05  44401.980240  ...                         0.0  44594.582500\n",
              "75 2020-04-06  46360.289159  ...                         0.0  46768.514506\n",
              "76 2020-04-07  48318.598079  ...                         0.0  48116.977881\n",
              "77 2020-04-08  50276.906998  ...                         0.0  50097.161754\n",
              "78 2020-04-09  52235.215917  ...                         0.0  52047.655641\n",
              "\n",
              "[10 rows x 16 columns]"
            ]
          },
          "metadata": {
            "tags": []
          },
          "execution_count": 171
        }
      ]
    },
    {
      "cell_type": "markdown",
      "metadata": {
        "id": "v2p6Q8RWdKjG"
      },
      "source": [
        "**Desses dados de previsão do futuro, eu preciso da data, previsão para baixo, previsão do meio e previsão para cima. Tenho o pico baixo, médio e alto.**"
      ]
    },
    {
      "cell_type": "code",
      "metadata": {
        "colab": {
          "base_uri": "https://localhost:8080/",
          "height": 355
        },
        "id": "pAqPGBasddF3",
        "outputId": "f52ac468-8095-4595-e684-cfa11872e8a5"
      },
      "source": [
        "previsao[['ds', 'yhat_lower', 'yhat', 'yhat_upper']].tail(dias)"
      ],
      "execution_count": null,
      "outputs": [
        {
          "output_type": "execute_result",
          "data": {
            "text/html": [
              "<div>\n",
              "<style scoped>\n",
              "    .dataframe tbody tr th:only-of-type {\n",
              "        vertical-align: middle;\n",
              "    }\n",
              "\n",
              "    .dataframe tbody tr th {\n",
              "        vertical-align: top;\n",
              "    }\n",
              "\n",
              "    .dataframe thead th {\n",
              "        text-align: right;\n",
              "    }\n",
              "</style>\n",
              "<table border=\"1\" class=\"dataframe\">\n",
              "  <thead>\n",
              "    <tr style=\"text-align: right;\">\n",
              "      <th></th>\n",
              "      <th>ds</th>\n",
              "      <th>yhat_lower</th>\n",
              "      <th>yhat</th>\n",
              "      <th>yhat_upper</th>\n",
              "    </tr>\n",
              "  </thead>\n",
              "  <tbody>\n",
              "    <tr>\n",
              "      <th>69</th>\n",
              "      <td>2020-03-31</td>\n",
              "      <td>32444.791906</td>\n",
              "      <td>34408.815446</td>\n",
              "      <td>36490.356453</td>\n",
              "    </tr>\n",
              "    <tr>\n",
              "      <th>70</th>\n",
              "      <td>2020-04-01</td>\n",
              "      <td>34409.320926</td>\n",
              "      <td>36388.999319</td>\n",
              "      <td>38366.193496</td>\n",
              "    </tr>\n",
              "    <tr>\n",
              "      <th>71</th>\n",
              "      <td>2020-04-02</td>\n",
              "      <td>36218.933310</td>\n",
              "      <td>38339.493206</td>\n",
              "      <td>40501.671829</td>\n",
              "    </tr>\n",
              "    <tr>\n",
              "      <th>72</th>\n",
              "      <td>2020-04-03</td>\n",
              "      <td>38367.690621</td>\n",
              "      <td>40398.760102</td>\n",
              "      <td>42339.870429</td>\n",
              "    </tr>\n",
              "    <tr>\n",
              "      <th>73</th>\n",
              "      <td>2020-04-04</td>\n",
              "      <td>40259.793199</td>\n",
              "      <td>42498.371730</td>\n",
              "      <td>44675.530741</td>\n",
              "    </tr>\n",
              "    <tr>\n",
              "      <th>74</th>\n",
              "      <td>2020-04-05</td>\n",
              "      <td>42198.818424</td>\n",
              "      <td>44594.582500</td>\n",
              "      <td>46878.888202</td>\n",
              "    </tr>\n",
              "    <tr>\n",
              "      <th>75</th>\n",
              "      <td>2020-04-06</td>\n",
              "      <td>44350.658163</td>\n",
              "      <td>46768.514506</td>\n",
              "      <td>49205.298879</td>\n",
              "    </tr>\n",
              "    <tr>\n",
              "      <th>76</th>\n",
              "      <td>2020-04-07</td>\n",
              "      <td>45367.233468</td>\n",
              "      <td>48116.977881</td>\n",
              "      <td>50686.946807</td>\n",
              "    </tr>\n",
              "    <tr>\n",
              "      <th>77</th>\n",
              "      <td>2020-04-08</td>\n",
              "      <td>47339.300525</td>\n",
              "      <td>50097.161754</td>\n",
              "      <td>52759.128274</td>\n",
              "    </tr>\n",
              "    <tr>\n",
              "      <th>78</th>\n",
              "      <td>2020-04-09</td>\n",
              "      <td>48920.060329</td>\n",
              "      <td>52047.655641</td>\n",
              "      <td>55182.630360</td>\n",
              "    </tr>\n",
              "  </tbody>\n",
              "</table>\n",
              "</div>"
            ],
            "text/plain": [
              "           ds    yhat_lower          yhat    yhat_upper\n",
              "69 2020-03-31  32444.791906  34408.815446  36490.356453\n",
              "70 2020-04-01  34409.320926  36388.999319  38366.193496\n",
              "71 2020-04-02  36218.933310  38339.493206  40501.671829\n",
              "72 2020-04-03  38367.690621  40398.760102  42339.870429\n",
              "73 2020-04-04  40259.793199  42498.371730  44675.530741\n",
              "74 2020-04-05  42198.818424  44594.582500  46878.888202\n",
              "75 2020-04-06  44350.658163  46768.514506  49205.298879\n",
              "76 2020-04-07  45367.233468  48116.977881  50686.946807\n",
              "77 2020-04-08  47339.300525  50097.161754  52759.128274\n",
              "78 2020-04-09  48920.060329  52047.655641  55182.630360"
            ]
          },
          "metadata": {
            "tags": []
          },
          "execution_count": 172
        }
      ]
    },
    {
      "cell_type": "markdown",
      "metadata": {
        "id": "g8n5G8RCs6ur"
      },
      "source": [
        "**Plotando a previsão**"
      ]
    },
    {
      "cell_type": "code",
      "metadata": {
        "colab": {
          "base_uri": "https://localhost:8080/",
          "height": 441
        },
        "id": "CKpU3U3SsuJb",
        "outputId": "ec462db4-2aba-4143-ecfe-7eec33ed49fd"
      },
      "source": [
        "results = fb.plot(previsao)"
      ],
      "execution_count": null,
      "outputs": [
        {
          "output_type": "display_data",
          "data": {
            "image/png": "[encoded data removed]",
            "text/plain": [
              "<Figure size 720x432 with 1 Axes>"
            ]
          },
          "metadata": {
            "tags": []
          }
        }
      ]
    }
  ]
}